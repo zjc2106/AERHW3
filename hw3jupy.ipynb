{
 "cells": [
  {
   "cell_type": "code",
   "execution_count": 2,
   "id": "8f0a5971",
   "metadata": {},
   "outputs": [],
   "source": [
    "import pandas as pd"
   ]
  },
  {
   "cell_type": "code",
   "execution_count": 53,
   "id": "58d7dd32",
   "metadata": {},
   "outputs": [
    {
     "name": "stdout",
     "output_type": "stream",
     "text": [
      "Total consumption in Manhattan: 39470087580.08052 KWH\n",
      "Total consumption in Staten Island: 1904165159.3119843 KWH\n",
      "20.728289973723662\n"
     ]
    }
   ],
   "source": [
    "dtype = {\"9\": str, \"15\": str, \"218\": str, \"219\": str}\n",
    "\n",
    "# Read in the data with the specified data types\n",
    "df = pd.read_csv('energy.csv', dtype = dtype)\n",
    "\n",
    "# Filter for rows where borough is Manhattan\n",
    "manhattan_data = df[df['Borough'] == 'MANHATTAN']\n",
    "\n",
    "staten_data = df[df['Borough'] == 'STATEN IS']\n",
    "\n",
    "manhattan_data = manhattan_data[manhattan_data[\"Site Energy Use (kBtu)\"] != \"Not Available\"]\n",
    "\n",
    "staten_data = staten_data[staten_data[\"Site Energy Use (kBtu)\"] != \"Not Available\"]\n",
    "\n",
    "\n",
    "\n",
    "convert = {\"Site Energy Use (kBtu)\": float}\n",
    "\n",
    "manhattan_data = manhattan_data.astype(convert)\n",
    "\n",
    "staten_data = staten_data.astype(convert)\n",
    "\n",
    "\n",
    "# Sum the consumption columns for Manhattan data\n",
    "manhattan_consumption = manhattan_data['Site Energy Use (kBtu)'].sum()\n",
    "\n",
    "manhattan_consumption = manhattan_consumption *0.29301453352086\n",
    "\n",
    "staten_consumption = staten_data['Site Energy Use (kBtu)'].sum()\n",
    "\n",
    "staten_consumption = staten_consumption *0.29301453352086\n",
    "\n",
    "print(f\"Total consumption in Manhattan: {manhattan_consumption} KWH\")\n",
    "\n",
    "print(f\"Total consumption in Staten Island: {staten_consumption} KWH\")\n",
    "\n"
   ]
  }
 ],
 "metadata": {
  "kernelspec": {
   "display_name": "Python 3 (ipykernel)",
   "language": "python",
   "name": "python3"
  },
  "language_info": {
   "codemirror_mode": {
    "name": "ipython",
    "version": 3
   },
   "file_extension": ".py",
   "mimetype": "text/x-python",
   "name": "python",
   "nbconvert_exporter": "python",
   "pygments_lexer": "ipython3",
   "version": "3.9.7"
  }
 },
 "nbformat": 4,
 "nbformat_minor": 5
}
